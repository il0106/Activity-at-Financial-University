{
 "cells": [
  {
   "cell_type": "code",
   "execution_count": 1,
   "id": "6eb64d47",
   "metadata": {},
   "outputs": [],
   "source": [
    "import pandas as pd\n",
    "import matplotlib.pyplot as plt"
   ]
  },
  {
   "cell_type": "code",
   "execution_count": 12,
   "id": "cfb33ccc",
   "metadata": {
    "scrolled": false
   },
   "outputs": [
    {
     "name": "stdout",
     "output_type": "stream",
     "text": [
      "форма обуч набора X: (3286, 43)\n",
      "форма обуч набора X c l1: (3286, 22)\n",
      "[(0, 'Age'), (1, 'DistanceFromHome'), (2, 'Education'), (3, 'EmployeeCount'), (4, 'EmployeeID'), (5, 'JobLevel'), (6, 'MonthlyIncome'), (7, 'NumCompaniesWorked'), (8, 'PercentSalaryHike'), (9, 'StandardHours'), (10, 'StockOptionLevel'), (11, 'TotalWorkingYears'), (12, 'TrainingTimesLastYear'), (13, 'YearsAtCompany'), (14, 'YearsSinceLastPromotion'), (15, 'YearsWithCurrManager'), (16, 'BusinessTravel_Non-Travel'), (17, 'BusinessTravel_Travel_Frequently'), (18, 'BusinessTravel_Travel_Rarely'), (19, 'Department_Human Resources'), (20, 'Department_Research & Development'), (21, 'Department_Sales'), (22, 'EducationField_Human Resources'), (23, 'EducationField_Life Sciences'), (24, 'EducationField_Marketing'), (25, 'EducationField_Medical'), (26, 'EducationField_Other'), (27, 'EducationField_Technical Degree'), (28, 'Gender_Female'), (29, 'Gender_Male'), (30, 'JobRole_Healthcare Representative'), (31, 'JobRole_Human Resources'), (32, 'JobRole_Laboratory Technician'), (33, 'JobRole_Manager'), (34, 'JobRole_Manufacturing Director'), (35, 'JobRole_Research Director'), (36, 'JobRole_Research Scientist'), (37, 'JobRole_Sales Executive'), (38, 'JobRole_Sales Representative'), (39, 'MaritalStatus_Divorced'), (40, 'MaritalStatus_Married'), (41, 'MaritalStatus_Single'), (42, 'Over18_Y')]\n"
     ]
    },
    {
     "data": {
      "image/png": "[encoded data removed]",
      "text/plain": [
       "<Figure size 1152x144 with 1 Axes>"
      ]
     },
     "metadata": {
      "needs_background": "light"
     },
     "output_type": "display_data"
    }
   ],
   "source": [
    "raw_data = pd.read_csv('HR-аналитика.csv')\n",
    "raw_data.dropna(inplace=True)\n",
    "\n",
    "\n",
    "data_dummies = pd.get_dummies(raw_data)\n",
    "data_dummies.drop('Attrition_No',inplace=True,axis=1)\n",
    "\n",
    "data = data_dummies.copy()\n",
    "\n",
    "y = data['Attrition_Yes'].copy()\n",
    "data.drop('Attrition_Yes',inplace=True,axis=1)\n",
    "x = data.copy()\n",
    "x_fr = data.copy()\n",
    "\n",
    "from sklearn.model_selection import train_test_split\n",
    "x_train, x_test, y_train, y_test = train_test_split(x, y, random_state=0)\n",
    "\n",
    "from sklearn.feature_selection import SelectFromModel\n",
    "from sklearn.ensemble import RandomForestClassifier\n",
    "select = SelectFromModel(RandomForestClassifier(n_estimators=100, random_state=42,),threshold=\"median\")\n",
    "\n",
    "select.fit(x_train, y_train)\n",
    "x_train_l1 = select.transform(x_train)\n",
    "print(\"форма обуч набора X: {}\".format(x_train.shape))\n",
    "print(\"форма обуч набора X c l1: {}\".format(x_train_l1.shape))\n",
    " \n",
    "mask = select.get_support()\n",
    "plt.matshow(mask.reshape(1, -1), cmap='gray_r')\n",
    "plt.xlabel(\"Индекс примера\")\n",
    "print(list(enumerate(x_train.columns)))"
   ]
  },
  {
   "cell_type": "code",
   "execution_count": 9,
   "id": "f606ac20",
   "metadata": {
    "scrolled": false
   },
   "outputs": [
    {
     "data": {
      "text/plain": [
       "Text(0.5, 0, 'Индекс примера')"
      ]
     },
     "execution_count": 9,
     "metadata": {},
     "output_type": "execute_result"
    },
    {
     "data": {
      "image/png": "[encoded data removed]",
      "text/plain": [
       "<Figure size 1152x144 with 1 Axes>"
      ]
     },
     "metadata": {
      "needs_background": "light"
     },
     "output_type": "display_data"
    }
   ],
   "source": [
    "from sklearn.feature_selection import RFE\n",
    "select = RFE(RandomForestClassifier(n_estimators=100, random_state=42),n_features_to_select=10)\n",
    "select.fit(x_train, y_train)\n",
    "\n",
    "mask = select.get_support()\n",
    "plt.matshow(mask.reshape(1, -1), cmap='gray_r')\n",
    "plt.xlabel(\"Индекс примера\")\n",
    "print(list(enumerate(x_train.columns)))"
   ]
  },
  {
   "cell_type": "code",
   "execution_count": 24,
   "id": "9e3723e8",
   "metadata": {},
   "outputs": [
    {
     "name": "stderr",
     "output_type": "stream",
     "text": [
      "C:\\PROGRAMS\\Anaconda\\lib\\site-packages\\sklearn\\linear_model\\_logistic.py:458: ConvergenceWarning: lbfgs failed to converge (status=1):\n",
      "STOP: TOTAL NO. of ITERATIONS REACHED LIMIT.\n",
      "\n",
      "Increase the number of iterations (max_iter) or scale the data as shown in:\n",
      "    https://scikit-learn.org/stable/modules/preprocessing.html\n",
      "Please also refer to the documentation for alternative solver options:\n",
      "    https://scikit-learn.org/stable/modules/linear_model.html#logistic-regression\n",
      "  n_iter_i = _check_optimize_result(\n"
     ]
    },
    {
     "data": {
      "text/plain": [
       "0.8111313868613139"
      ]
     },
     "execution_count": 24,
     "metadata": {},
     "output_type": "execute_result"
    }
   ],
   "source": [
    "#Фичи: 0,1,4,6,7,8,11,12,13,15\n",
    "x_new=pd.DataFrame()\n",
    "for i in [0,1,4,6,7,8,11,12,13,15]:\n",
    "    x_new[i] = x_fr.iloc[:,i]\n",
    "\n",
    "from sklearn.linear_model import LogisticRegression\n",
    "    \n",
    "logreg = LogisticRegression().fit(x_train, y_train)\n",
    "logreg.score(x_test,y_test)"
   ]
  }
 ],
 "metadata": {
  "kernelspec": {
   "display_name": "Python 3 (ipykernel)",
   "language": "python",
   "name": "python3"
  },
  "language_info": {
   "codemirror_mode": {
    "name": "ipython",
    "version": 3
   },
   "file_extension": ".py",
   "mimetype": "text/x-python",
   "name": "python",
   "nbconvert_exporter": "python",
   "pygments_lexer": "ipython3",
   "version": "3.9.7"
  }
 },
 "nbformat": 4,
 "nbformat_minor": 5
}
